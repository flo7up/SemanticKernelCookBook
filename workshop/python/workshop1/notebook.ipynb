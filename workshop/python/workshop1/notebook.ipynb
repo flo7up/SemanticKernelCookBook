{
 "cells": [
  {
   "cell_type": "code",
   "execution_count": 10,
   "metadata": {},
   "outputs": [],
   "source": [
    "import os\n",
    "import json\n",
    "import semantic_kernel as sk\n",
    "from dotenv import load_dotenv\n",
    "import semantic_kernel.connectors.ai.open_ai as skaoai\n",
    "from semantic_kernel.prompt_template import PromptTemplateConfig, InputVariable\n",
    "from semantic_kernel.connectors.ai.open_ai import (\n",
    "    AzureChatCompletion,\n",
    "    OpenAIChatCompletion,\n",
    ")"
   ]
  },
  {
   "cell_type": "code",
   "execution_count": 14,
   "metadata": {},
   "outputs": [],
   "source": [
    "kernel = sk.Kernel()\n",
    "\n",
    "# load some variables for azure openai from .env\n",
    "load_dotenv()\n",
    "deployment = os.getenv(\"AZURE_OPENAI_DEPLOYMENT_NAME\")\n",
    "endpoint = os.getenv(\"AZURE_OPENAI_ENDPOINT\")\n",
    "api_key = os.getenv(\"AZURE_OPENAI_API_KEY\")\n",
    "\n",
    "kernel.add_service(\n",
    "    AzureChatCompletion(\n",
    "        service_id=\"gpt4o\",\n",
    "        deployment_name=deployment,\n",
    "        endpoint=endpoint,\n",
    "        api_key=api_key,\n",
    "    ),\n",
    ")\n",
    "\n",
    "kernel.add_service(\n",
    "    AzureChatCompletion(\n",
    "        service_id=\"embedding\",\n",
    "        deployment_name=\"text-embedding-ada-002\",\n",
    "        endpoint=endpoint,\n",
    "        api_key=api_key,\n",
    "    ),\n",
    ")"
   ]
  },
  {
   "cell_type": "code",
   "execution_count": 6,
   "metadata": {},
   "outputs": [],
   "source": [
    "kernel.add_service(chat_service)\n",
    "\n",
    "\n",
    "kernel.add_service(embedding_gen)"
   ]
  },
  {
   "cell_type": "code",
   "execution_count": 7,
   "metadata": {},
   "outputs": [],
   "source": [
    "base_plugin = \"./plugins\""
   ]
  },
  {
   "cell_type": "code",
   "execution_count": 8,
   "metadata": {},
   "outputs": [],
   "source": [
    "files_plugin = kernel.import_plugin_from_prompt_directory(base_plugin , \"FilePlugin\")"
   ]
  },
  {
   "cell_type": "code",
   "execution_count": 9,
   "metadata": {},
   "outputs": [],
   "source": [
    "nodes_files = os.listdir(\"./data/notes\")\n",
    "transcrips_files = os.listdir(\"./data/transcripts\")"
   ]
  },
  {
   "cell_type": "code",
   "execution_count": 10,
   "metadata": {},
   "outputs": [],
   "source": [
    "kblist = []"
   ]
  },
  {
   "cell_type": "code",
   "execution_count": 11,
   "metadata": {},
   "outputs": [],
   "source": [
    "for f in nodes_files:\n",
    "    file = open(\"./data/notes/\"+f, \"r\") \n",
    "    content = file.read()\n",
    "    notesFunc = files_plugin[\"Notes\"]\n",
    "    result = await kernel.invoke(notesFunc, sk.KernelArguments(input=content))\n",
    "    json_result = json.loads(str(result))\n",
    "    kblist.append(json_result)\n",
    "    file.close()"
   ]
  },
  {
   "cell_type": "code",
   "execution_count": 12,
   "metadata": {},
   "outputs": [],
   "source": [
    "for f in transcrips_files:\n",
    "    file = open(\"./data/transcripts/\"+f, \"r\") \n",
    "    content = file.read()\n",
    "    transcripsFunc = files_plugin[\"Transcrips\"]\n",
    "    result = await kernel.invoke(transcripsFunc, sk.KernelArguments(input=content))\n",
    "    # print(result.result)\n",
    "    json_result = json.loads(str(result))\n",
    "    for item in json_result:\n",
    "        kblist.append(item)\n",
    "    file.close()"
   ]
  },
  {
   "cell_type": "code",
   "execution_count": 13,
   "metadata": {},
   "outputs": [
    {
     "data": {
      "text/plain": [
       "[{'kb': 'History of machine learning',\n",
       "  'content': \"The history of machine learning and artificial intelligence is marked by notable discoveries and periods of significant progress and setbacks. Key discoveries include Bayes Theorem (1763, 1812), Least Square Theory (1805), Markov Chains (1913), Perceptron (1957), Nearest Neighbor (1967), Backpropagation (1970), and Recurrent Neural Networks (1982). The concept of a 'machine that can think' was introduced by Alan Turing in 1950. The Dartmouth Summer Research Project in 1956 was a seminal event for AI as a field. The period from 1956 to 1974 is often referred to as 'The golden years' of AI. However, by the mid-1970s, the complexity of creating 'intelligent machines' had been understated and its promise overblown, leading to an 'AI Winter'. The 1980s saw the proliferation of 'expert systems'. The period from 1993 to 2011 saw a new era for ML and AI with the rapid increase of data and compute power. Today, machine learning and AI touch almost every part of our lives.\"},\n",
       " {'kb': 'Techniques of Machine Learning',\n",
       "  'content': \"The process of machine learning involves several steps. First, a question is decided that cannot be answered by a simple conditional program. Data is then collected and prepared, which includes visualizing the data and splitting it into training and testing groups. A training method is chosen based on the question and the nature of the data. The model is then trained using various algorithms to recognize patterns in the data. The model is evaluated using never before seen data from the collected set. Based on the performance of the model, the process can be redone using different parameters. Finally, new inputs are used to test the accuracy of the model. Before building the model, several tasks need to be completed such as collecting and preparing data, selecting features and target, visualizing data, and splitting the dataset. The model is then built using the training data and various algorithms. The model's quality is evaluated using test data. The quality of the model can be improved by tweaking its 'hyperparameters'. Finally, completely new data is used to test the model's accuracy.\"},\n",
       " {'kb': 'Introduction to machine learning',\n",
       "  'content': 'This content introduces machine learning (ML), a subset of artificial intelligence (AI) that uses specialized algorithms to uncover meaningful information and hidden patterns from data. It explains the importance of ML in various fields such as finance, economics, earth science, space exploration, biomedical engineering, cognitive science, and humanities. The course covers core concepts of ML, history of ML, ML and fairness, regression ML techniques, classification ML techniques, clustering ML techniques, natural language processing ML techniques, time series forecasting ML techniques, and reinforcement learning. However, it does not cover deep learning, neural networks, and AI. The course also emphasizes the importance of understanding the basics of ML due to its widespread adoption.'},\n",
       " {'kb': 'Alan Turing and the Turing test',\n",
       "  'content': \"Alan Turing laid foundation for concept of thinking machine. Created Turing test in 1950 to define machine intelligence. If interrogator can't distinguish between human and computer, computer is considered intelligent.\"},\n",
       " {'kb': 'The Dartmouth Summer Research Project on AI',\n",
       "  'content': \"In 1956, term 'artificial intelligence' was coined at Dartmouth College during the summer research project on AI. This conference marked the birth of AI research field.\"},\n",
       " {'kb': 'The golden years of AI',\n",
       "  'content': 'From 1956 to 1974, optimism for AI was high. Advances were made in computation, algorithms, and prototypes of intelligent machines were built. However, by mid-1970s, complexity of creating intelligent machines was underestimated.'},\n",
       " {'kb': 'The AI winter',\n",
       "  'content': 'By mid-1970s, complexity of creating intelligent machines was underestimated, leading to AI winter. Funding dried up and confidence in field slowed. Questions around ethics of introducing AI systems arose.'},\n",
       " {'kb': 'Resurgence and fall of AI for expert systems',\n",
       "  'content': 'In 1980s, expert systems became more successful, leading to resurgence in AI optimism. However, by late 80s, expert systems were too specialized and unlikely to achieve machine intelligence.'},\n",
       " {'kb': 'Growth in AI driven by more data and more powerful hardware',\n",
       "  'content': 'In mid-1990s, compute and storage capabilities grew, making it possible to process larger data sets. Rise of internet and smartphones contributed to increasing amounts of data.'},\n",
       " {'kb': 'Big Data',\n",
       "  'content': 'In past decade, compute power and size of data sets have continued to grow. Machine learning has become capable of solving more problems, touching almost every part of our lives.'},\n",
       " {'kb': 'Increased awareness of ethical and responsible AI',\n",
       "  'content': \"Current era marked by increased awareness of potential ethical issues in machine learning and significant research in field of responsible AI. Aim is to create AI that doesn't amplify human bias.\"},\n",
       " {'kb': 'Introducing ML for Beginners',\n",
       "  'content': 'Open source curriculum, practical coding examples, step by step learning'},\n",
       " {'kb': 'The difference between AI and ML',\n",
       "  'content': 'AI is task accomplishment, ML is AI subset, uses data learning algorithms'},\n",
       " {'kb': \"What you'll learn in this course\",\n",
       "  'content': 'Classical machine learning, core concepts, statistical techniques'},\n",
       " {'kb': \"What you won't learn in this course\",\n",
       "  'content': 'No data science, deep learning, neural networks, other AI techniques'},\n",
       " {'kb': 'Why study Machine Learning',\n",
       "  'content': 'Solves complex problems, applicable in many fields, ubiquitous data use'},\n",
       " {'kb': 'Decide if AI is the right approach',\n",
       "  'content': 'AI for data-rich, rule-deficient problems'},\n",
       " {'kb': 'Collect and prepare data',\n",
       "  'content': 'Normalize, convert, clean, split data'},\n",
       " {'kb': 'Train your model', 'content': 'Choose algorithm, train with data'},\n",
       " {'kb': 'Evaluate your model', 'content': 'Test model with unseen data'},\n",
       " {'kb': 'Tune the hyperparameters',\n",
       "  'content': 'Adjust settings, try combinations'},\n",
       " {'kb': 'Test the model in the real world',\n",
       "  'content': 'Deploy model, collect live data'}]"
      ]
     },
     "execution_count": 13,
     "metadata": {},
     "output_type": "execute_result"
    }
   ],
   "source": [
    "kblist"
   ]
  },
  {
   "cell_type": "code",
   "execution_count": 14,
   "metadata": {},
   "outputs": [],
   "source": [
    "base_vectordb = 'aboutMLKBDemoDemo'"
   ]
  },
  {
   "cell_type": "code",
   "execution_count": 15,
   "metadata": {},
   "outputs": [],
   "source": [
    "\n",
    "from semantic_kernel.connectors.memory.qdrant import QdrantMemoryStore\n",
    "from semantic_kernel.memory.semantic_text_memory import SemanticTextMemory"
   ]
  },
  {
   "cell_type": "code",
   "execution_count": 16,
   "metadata": {},
   "outputs": [],
   "source": [
    "qdrant_store = QdrantMemoryStore(vector_size=1536, url=\"http://localhost\",port=6333)\n",
    "await qdrant_store.create_collection(base_vectordb)"
   ]
  },
  {
   "cell_type": "code",
   "execution_count": 17,
   "metadata": {},
   "outputs": [],
   "source": [
    "memory = SemanticTextMemory(storage=qdrant_store, embeddings_generator=embedding_gen)"
   ]
  },
  {
   "cell_type": "code",
   "execution_count": 18,
   "metadata": {},
   "outputs": [],
   "source": [
    "import uuid"
   ]
  },
  {
   "cell_type": "code",
   "execution_count": 19,
   "metadata": {},
   "outputs": [
    {
     "data": {
      "text/plain": [
       "UUID('06b7e53f-9764-404a-96df-0a68a1d8bd45')"
      ]
     },
     "execution_count": 19,
     "metadata": {},
     "output_type": "execute_result"
    }
   ],
   "source": [
    "uuid.uuid4()"
   ]
  },
  {
   "cell_type": "code",
   "execution_count": 20,
   "metadata": {},
   "outputs": [],
   "source": [
    "for item in kblist:\n",
    "    content = item[\"kb\"] + ' - ' + item[\"content\"]\n",
    "    id =str(uuid.uuid4())\n",
    "    await memory.save_information(base_vectordb, id=id, text=content)"
   ]
  },
  {
   "cell_type": "code",
   "execution_count": 21,
   "metadata": {},
   "outputs": [],
   "source": [
    "ask = \"can you tell me what is different ML and AI\"\n",
    "\n",
    "memories = await memory.search(\n",
    "    base_vectordb, ask, limit=1, min_relevance_score=0.8\n",
    ")"
   ]
  },
  {
   "cell_type": "code",
   "execution_count": 22,
   "metadata": {},
   "outputs": [
    {
     "name": "stdout",
     "output_type": "stream",
     "text": [
      "Top Result: The difference between AI and ML - AI is task accomplishment, ML is AI subset, uses data learning algorithms with score 0.87940943\n"
     ]
    }
   ],
   "source": [
    "result = ''\n",
    "for item in memories:\n",
    "    print(f\"Top Result: {item.text} with score {item.relevance}\")\n",
    "    result = item.text"
   ]
  },
  {
   "cell_type": "code",
   "execution_count": 23,
   "metadata": {},
   "outputs": [],
   "source": [
    "answer_plugin = kernel.import_plugin_from_prompt_directory(base_plugin , \"AnswerPlugin\")"
   ]
  },
  {
   "cell_type": "code",
   "execution_count": 24,
   "metadata": {},
   "outputs": [],
   "source": [
    "answerFunc = answer_plugin[\"Summary\"]"
   ]
  },
  {
   "cell_type": "code",
   "execution_count": 25,
   "metadata": {},
   "outputs": [],
   "source": [
    "summary_result = await kernel.invoke(answerFunc, sk.KernelArguments(input=result))"
   ]
  },
  {
   "cell_type": "code",
   "execution_count": 26,
   "metadata": {},
   "outputs": [
    {
     "data": {
      "text/plain": [
       "'AI, or Artificial Intelligence, is about enabling machines to perform tasks that would normally require human intelligence. On the other hand, Machine Learning (ML) is a subset of AI that focuses on using data and algorithms to enable machines to learn and improve from experience. In simple terms, AI is about smart task completion, while ML is about learning from data to perform these tasks more effectively.'"
      ]
     },
     "execution_count": 26,
     "metadata": {},
     "output_type": "execute_result"
    }
   ],
   "source": [
    "str(summary_result)"
   ]
  }
 ],
 "metadata": {
  "kernelspec": {
   "display_name": "pydev",
   "language": "python",
   "name": "python3"
  },
  "language_info": {
   "codemirror_mode": {
    "name": "ipython",
    "version": 3
   },
   "file_extension": ".py",
   "mimetype": "text/x-python",
   "name": "python",
   "nbconvert_exporter": "python",
   "pygments_lexer": "ipython3",
   "version": "3.11.9"
  }
 },
 "nbformat": 4,
 "nbformat_minor": 2
}
